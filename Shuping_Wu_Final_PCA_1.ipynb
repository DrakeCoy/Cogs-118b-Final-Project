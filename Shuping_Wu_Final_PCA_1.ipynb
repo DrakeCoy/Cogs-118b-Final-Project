{
  "nbformat": 4,
  "nbformat_minor": 0,
  "metadata": {
    "colab": {
      "name": "Copy of Final PCA.ipynb",
      "provenance": [],
      "collapsed_sections": []
    },
    "kernelspec": {
      "name": "python3",
      "display_name": "Python 3"
    },
    "language_info": {
      "name": "python"
    }
  },
  "cells": [
    {
      "cell_type": "code",
      "execution_count": 2,
      "metadata": {
        "id": "zZutBK8FKj7J"
      },
      "outputs": [],
      "source": [
        "import numpy as np \n",
        "import matplotlib.pyplot as plt\n",
        "import glob\n",
        "import cv2\n",
        "from keras.models import Model, Sequential\n",
        "from keras.layers import Dense, Flatten, Conv2D, MaxPooling2D, Input\n",
        "from tensorflow.keras.layers import BatchNormalization\n",
        "import os\n",
        "from keras.applications.vgg16 import VGG16"
      ]
    },
    {
      "cell_type": "code",
      "source": [
        "from google.colab import drive\n",
        "drive.mount('/content/drive')"
      ],
      "metadata": {
        "colab": {
          "base_uri": "https://localhost:8080/"
        },
        "id": "yR-b1s1pLaOt",
        "outputId": "861aee80-1287-452e-ebbb-b9645bd3ca38"
      },
      "execution_count": 3,
      "outputs": [
        {
          "output_type": "stream",
          "name": "stdout",
          "text": [
            "Mounted at /content/drive\n"
          ]
        }
      ]
    },
    {
      "cell_type": "code",
      "source": [
        "images = []\n",
        "labels = [] "
      ],
      "metadata": {
        "id": "rv3Srb3BNZLl"
      },
      "execution_count": 4,
      "outputs": []
    },
    {
      "cell_type": "code",
      "source": [
        "for directory_path in glob.glob(\"/content/drive/MyDrive/ANIMAL/*\"):\n",
        "    label = directory_path.split(\"\\\\\")[-1]\n",
        "    for img_path in glob.glob(os.path.join(directory_path, \"*.jpg\")):\n",
        "        img = cv2.imread(img_path, cv2.IMREAD_COLOR)       \n",
        "        img = cv2.cvtColor(img, cv2.COLOR_RGB2BGR)\n",
        "        images.append(img)\n",
        "        labels.append(label)\n",
        "        \n",
        "images = np.array(images)\n",
        "labels = np.array(labels)"
      ],
      "metadata": {
        "id": "PcU9O9CqNU5M"
      },
      "execution_count": 5,
      "outputs": []
    },
    {
      "cell_type": "code",
      "source": [
        "from sklearn import preprocessing\n",
        "le = preprocessing.LabelEncoder()\n",
        "le.fit(labels)\n",
        "labels_encoded = le.transform(labels)"
      ],
      "metadata": {
        "id": "3iDLWINqRbgx"
      },
      "execution_count": 6,
      "outputs": []
    },
    {
      "cell_type": "code",
      "source": [
        "from sklearn.model_selection import train_test_split\n",
        "train_images, test_images, train_labels, test_labels = train_test_split(images,labels_encoded,test_size=0.2, shuffle = True) "
      ],
      "metadata": {
        "id": "ac3bIvL0Remm"
      },
      "execution_count": 7,
      "outputs": []
    },
    {
      "cell_type": "code",
      "source": [
        "train_images"
      ],
      "metadata": {
        "id": "d7kyvixTR3tl",
        "colab": {
          "base_uri": "https://localhost:8080/"
        },
        "outputId": "88f9442f-d353-46ad-d514-5fd049a28de2"
      },
      "execution_count": 8,
      "outputs": [
        {
          "output_type": "execute_result",
          "data": {
            "text/plain": [
              "array([[[[223, 116, 106],\n",
              "         [236, 128, 115],\n",
              "         [220, 110,  87],\n",
              "         ...,\n",
              "         [253, 207, 158],\n",
              "         [249, 207, 147],\n",
              "         [247, 206, 140]],\n",
              "\n",
              "        [[219, 112, 102],\n",
              "         [232, 124, 111],\n",
              "         [218, 108,  85],\n",
              "         ...,\n",
              "         [249, 203, 154],\n",
              "         [245, 203, 145],\n",
              "         [244, 203, 139]],\n",
              "\n",
              "        [[215, 109,  96],\n",
              "         [226, 119, 103],\n",
              "         [214, 105,  82],\n",
              "         ...,\n",
              "         [245, 199, 149],\n",
              "         [241, 198, 143],\n",
              "         [241, 199, 141]],\n",
              "\n",
              "        ...,\n",
              "\n",
              "        [[219, 238, 252],\n",
              "         [213, 231, 243],\n",
              "         [208, 222, 231],\n",
              "         ...,\n",
              "         [207, 170, 118],\n",
              "         [207, 171, 121],\n",
              "         [207, 171, 121]],\n",
              "\n",
              "        [[254, 255, 255],\n",
              "         [255, 255, 255],\n",
              "         [250, 249, 247],\n",
              "         ...,\n",
              "         [206, 169, 117],\n",
              "         [206, 170, 120],\n",
              "         [205, 171, 123]],\n",
              "\n",
              "        [[238, 230, 227],\n",
              "         [234, 225, 220],\n",
              "         [229, 218, 212],\n",
              "         ...,\n",
              "         [207, 170, 118],\n",
              "         [207, 171, 123],\n",
              "         [205, 171, 123]]],\n",
              "\n",
              "\n",
              "       [[[ 86,  36,  27],\n",
              "         [ 95,  42,  34],\n",
              "         [131,  76,  69],\n",
              "         ...,\n",
              "         [244, 152, 173],\n",
              "         [247, 151, 178],\n",
              "         [250, 151, 179]],\n",
              "\n",
              "        [[ 86,  36,  27],\n",
              "         [ 91,  38,  30],\n",
              "         [134,  79,  72],\n",
              "         ...,\n",
              "         [243, 151, 172],\n",
              "         [244, 149, 173],\n",
              "         [246, 148, 173]],\n",
              "\n",
              "        [[ 87,  34,  26],\n",
              "         [ 99,  46,  38],\n",
              "         [136,  81,  74],\n",
              "         ...,\n",
              "         [241, 149, 170],\n",
              "         [240, 147, 168],\n",
              "         [240, 145, 167]],\n",
              "\n",
              "        ...,\n",
              "\n",
              "        [[ 76,  17,  23],\n",
              "         [ 79,  20,  26],\n",
              "         [ 82,  21,  28],\n",
              "         ...,\n",
              "         [175, 101,  66],\n",
              "         [171,  98,  65],\n",
              "         [165,  94,  62]],\n",
              "\n",
              "        [[ 76,  17,  23],\n",
              "         [ 78,  19,  25],\n",
              "         [ 81,  20,  27],\n",
              "         ...,\n",
              "         [176, 102,  67],\n",
              "         [170,  97,  64],\n",
              "         [162,  91,  59]],\n",
              "\n",
              "        [[ 76,  17,  23],\n",
              "         [ 78,  19,  25],\n",
              "         [ 81,  20,  27],\n",
              "         ...,\n",
              "         [164,  90,  55],\n",
              "         [155,  82,  49],\n",
              "         [162,  91,  59]]],\n",
              "\n",
              "\n",
              "       [[[138, 166, 117],\n",
              "         [152, 180, 131],\n",
              "         [166, 194, 146],\n",
              "         ...,\n",
              "         [217, 244, 165],\n",
              "         [207, 234, 155],\n",
              "         [203, 230, 149]],\n",
              "\n",
              "        [[174, 202, 153],\n",
              "         [181, 209, 160],\n",
              "         [186, 214, 166],\n",
              "         ...,\n",
              "         [194, 221, 144],\n",
              "         [187, 214, 135],\n",
              "         [188, 215, 136]],\n",
              "\n",
              "        [[187, 215, 164],\n",
              "         [189, 217, 166],\n",
              "         [189, 217, 168],\n",
              "         ...,\n",
              "         [199, 222, 150],\n",
              "         [197, 221, 147],\n",
              "         [202, 226, 150]],\n",
              "\n",
              "        ...,\n",
              "\n",
              "        [[ 96, 125,  43],\n",
              "         [ 84, 113,  31],\n",
              "         [101, 130,  46],\n",
              "         ...,\n",
              "         [144, 177,  90],\n",
              "         [141, 174,  87],\n",
              "         [139, 172,  85]],\n",
              "\n",
              "        [[ 95, 124,  42],\n",
              "         [ 85, 114,  32],\n",
              "         [103, 132,  48],\n",
              "         ...,\n",
              "         [140, 173,  86],\n",
              "         [139, 172,  85],\n",
              "         [142, 175,  88]],\n",
              "\n",
              "        [[ 96, 125,  43],\n",
              "         [ 87, 116,  34],\n",
              "         [104, 133,  49],\n",
              "         ...,\n",
              "         [135, 168,  81],\n",
              "         [135, 168,  81],\n",
              "         [140, 173,  86]]],\n",
              "\n",
              "\n",
              "       ...,\n",
              "\n",
              "\n",
              "       [[[ 83,  93, 105],\n",
              "         [ 87,  97, 109],\n",
              "         [ 88,  98, 110],\n",
              "         ...,\n",
              "         [ 13,  14,  16],\n",
              "         [ 17,  19,  18],\n",
              "         [ 21,  23,  22]],\n",
              "\n",
              "        [[ 85,  95, 107],\n",
              "         [ 88,  98, 110],\n",
              "         [ 88,  98, 110],\n",
              "         ...,\n",
              "         [ 17,  19,  18],\n",
              "         [ 19,  21,  20],\n",
              "         [ 21,  23,  20]],\n",
              "\n",
              "        [[ 88,  97, 112],\n",
              "         [ 90,  99, 114],\n",
              "         [ 88,  97, 112],\n",
              "         ...,\n",
              "         [ 24,  26,  25],\n",
              "         [ 24,  26,  23],\n",
              "         [ 24,  26,  21]],\n",
              "\n",
              "        ...,\n",
              "\n",
              "        [[168, 164, 155],\n",
              "         [170, 166, 155],\n",
              "         [175, 168, 158],\n",
              "         ...,\n",
              "         [171, 171, 163],\n",
              "         [171, 171, 163],\n",
              "         [171, 171, 163]],\n",
              "\n",
              "        [[166, 162, 153],\n",
              "         [168, 164, 153],\n",
              "         [173, 166, 156],\n",
              "         ...,\n",
              "         [170, 170, 162],\n",
              "         [170, 170, 162],\n",
              "         [170, 170, 162]],\n",
              "\n",
              "        [[160, 156, 147],\n",
              "         [162, 158, 147],\n",
              "         [168, 161, 151],\n",
              "         ...,\n",
              "         [169, 169, 161],\n",
              "         [169, 169, 161],\n",
              "         [170, 170, 162]]],\n",
              "\n",
              "\n",
              "       [[[ 71,  62,  67],\n",
              "         [ 76,  67,  72],\n",
              "         [ 79,  73,  77],\n",
              "         ...,\n",
              "         [161, 204, 246],\n",
              "         [160, 203, 246],\n",
              "         [159, 202, 245]],\n",
              "\n",
              "        [[ 72,  63,  68],\n",
              "         [ 76,  67,  72],\n",
              "         [ 77,  71,  75],\n",
              "         ...,\n",
              "         [158, 201, 243],\n",
              "         [157, 200, 243],\n",
              "         [156, 199, 242]],\n",
              "\n",
              "        [[ 80,  71,  74],\n",
              "         [ 84,  75,  78],\n",
              "         [ 85,  79,  81],\n",
              "         ...,\n",
              "         [157, 200, 242],\n",
              "         [157, 200, 243],\n",
              "         [157, 200, 243]],\n",
              "\n",
              "        ...,\n",
              "\n",
              "        [[118, 111,  95],\n",
              "         [120, 113,  97],\n",
              "         [123, 116, 100],\n",
              "         ...,\n",
              "         [ 59,  59,  57],\n",
              "         [ 59,  59,  57],\n",
              "         [ 46,  46,  44]],\n",
              "\n",
              "        [[121, 114,  98],\n",
              "         [120, 113,  97],\n",
              "         [120, 113,  97],\n",
              "         ...,\n",
              "         [ 54,  54,  54],\n",
              "         [ 57,  57,  57],\n",
              "         [ 45,  45,  45]],\n",
              "\n",
              "        [[128, 121, 105],\n",
              "         [122, 115,  99],\n",
              "         [118, 111,  95],\n",
              "         ...,\n",
              "         [ 35,  35,  35],\n",
              "         [ 52,  52,  54],\n",
              "         [ 55,  55,  57]]],\n",
              "\n",
              "\n",
              "       [[[255, 253, 255],\n",
              "         [255, 254, 255],\n",
              "         [255, 254, 255],\n",
              "         ...,\n",
              "         [ 14,  25,   9],\n",
              "         [ 11,  23,  11],\n",
              "         [  9,  21,  11]],\n",
              "\n",
              "        [[255, 253, 255],\n",
              "         [255, 254, 255],\n",
              "         [255, 254, 255],\n",
              "         ...,\n",
              "         [ 11,  22,   5],\n",
              "         [  7,  19,   5],\n",
              "         [  5,  17,   5]],\n",
              "\n",
              "        [[255, 253, 255],\n",
              "         [255, 254, 255],\n",
              "         [255, 254, 255],\n",
              "         ...,\n",
              "         [ 12,  24,   4],\n",
              "         [  8,  19,   3],\n",
              "         [  6,  17,   3]],\n",
              "\n",
              "        ...,\n",
              "\n",
              "        [[186, 134,  16],\n",
              "         [182, 130,  10],\n",
              "         [185, 133,  13],\n",
              "         ...,\n",
              "         [141, 121,  22],\n",
              "         [151, 139,  27],\n",
              "         [151, 142,  25]],\n",
              "\n",
              "        [[184, 131,  19],\n",
              "         [179, 126,  12],\n",
              "         [178, 125,   9],\n",
              "         ...,\n",
              "         [161, 140,  33],\n",
              "         [152, 134,  32],\n",
              "         [148, 133,  32]],\n",
              "\n",
              "        [[188, 134,  25],\n",
              "         [183, 130,  18],\n",
              "         [183, 130,  18],\n",
              "         ...,\n",
              "         [189, 167,  58],\n",
              "         [178, 158,  59],\n",
              "         [165, 146,  52]]]], dtype=uint8)"
            ]
          },
          "metadata": {},
          "execution_count": 8
        }
      ]
    },
    {
      "cell_type": "code",
      "source": [
        "x_train, y_train, x_test, y_test = train_images, train_labels, test_images, test_labels"
      ],
      "metadata": {
        "id": "tGg8JOjaR57M"
      },
      "execution_count": 9,
      "outputs": []
    },
    {
      "cell_type": "code",
      "source": [
        "x_train, x_test = x_train / 255.0, x_test / 255.0\n",
        "\n",
        "from tensorflow.keras.utils import to_categorical\n",
        "y_train_binary = to_categorical(y_train)\n",
        "y_test_binary = to_categorical(y_test)"
      ],
      "metadata": {
        "id": "Fk8khwGDR8uf"
      },
      "execution_count": 10,
      "outputs": []
    },
    {
      "cell_type": "code",
      "source": [
        "VGG_model = VGG16(weights='imagenet', include_top=False, input_shape=(144, 144, 3))\n",
        "\n",
        "for layer in VGG_model.layers:\n",
        "\tlayer.trainable = False\n",
        "    \n",
        "VGG_model.summary() "
      ],
      "metadata": {
        "colab": {
          "base_uri": "https://localhost:8080/"
        },
        "id": "hWfNA1qJSMJs",
        "outputId": "6c8fde98-baea-4bb6-9619-6f6d3dc4f090"
      },
      "execution_count": 11,
      "outputs": [
        {
          "output_type": "stream",
          "name": "stdout",
          "text": [
            "Downloading data from https://storage.googleapis.com/tensorflow/keras-applications/vgg16/vgg16_weights_tf_dim_ordering_tf_kernels_notop.h5\n",
            "58892288/58889256 [==============================] - 0s 0us/step\n",
            "58900480/58889256 [==============================] - 0s 0us/step\n",
            "Model: \"vgg16\"\n",
            "_________________________________________________________________\n",
            " Layer (type)                Output Shape              Param #   \n",
            "=================================================================\n",
            " input_1 (InputLayer)        [(None, 144, 144, 3)]     0         \n",
            "                                                                 \n",
            " block1_conv1 (Conv2D)       (None, 144, 144, 64)      1792      \n",
            "                                                                 \n",
            " block1_conv2 (Conv2D)       (None, 144, 144, 64)      36928     \n",
            "                                                                 \n",
            " block1_pool (MaxPooling2D)  (None, 72, 72, 64)        0         \n",
            "                                                                 \n",
            " block2_conv1 (Conv2D)       (None, 72, 72, 128)       73856     \n",
            "                                                                 \n",
            " block2_conv2 (Conv2D)       (None, 72, 72, 128)       147584    \n",
            "                                                                 \n",
            " block2_pool (MaxPooling2D)  (None, 36, 36, 128)       0         \n",
            "                                                                 \n",
            " block3_conv1 (Conv2D)       (None, 36, 36, 256)       295168    \n",
            "                                                                 \n",
            " block3_conv2 (Conv2D)       (None, 36, 36, 256)       590080    \n",
            "                                                                 \n",
            " block3_conv3 (Conv2D)       (None, 36, 36, 256)       590080    \n",
            "                                                                 \n",
            " block3_pool (MaxPooling2D)  (None, 18, 18, 256)       0         \n",
            "                                                                 \n",
            " block4_conv1 (Conv2D)       (None, 18, 18, 512)       1180160   \n",
            "                                                                 \n",
            " block4_conv2 (Conv2D)       (None, 18, 18, 512)       2359808   \n",
            "                                                                 \n",
            " block4_conv3 (Conv2D)       (None, 18, 18, 512)       2359808   \n",
            "                                                                 \n",
            " block4_pool (MaxPooling2D)  (None, 9, 9, 512)         0         \n",
            "                                                                 \n",
            " block5_conv1 (Conv2D)       (None, 9, 9, 512)         2359808   \n",
            "                                                                 \n",
            " block5_conv2 (Conv2D)       (None, 9, 9, 512)         2359808   \n",
            "                                                                 \n",
            " block5_conv3 (Conv2D)       (None, 9, 9, 512)         2359808   \n",
            "                                                                 \n",
            " block5_pool (MaxPooling2D)  (None, 4, 4, 512)         0         \n",
            "                                                                 \n",
            "=================================================================\n",
            "Total params: 14,714,688\n",
            "Trainable params: 0\n",
            "Non-trainable params: 14,714,688\n",
            "_________________________________________________________________\n"
          ]
        }
      ]
    },
    {
      "cell_type": "code",
      "source": [
        "train_feature_extractor=VGG_model.predict(x_train)\n",
        "train_features = train_feature_extractor.reshape(train_feature_extractor.shape[0], -1)\n",
        "\n",
        "test_feature_extractor=VGG_model.predict(x_test)\n",
        "test_features = test_feature_extractor.reshape(test_feature_extractor.shape[0], -1)"
      ],
      "metadata": {
        "id": "DU1mv9z4USmz"
      },
      "execution_count": 12,
      "outputs": []
    },
    {
      "cell_type": "code",
      "source": [
        "model = Sequential()\n",
        "inputs = Input(shape=np.shape(train_features[1])) \n",
        "hidden = Dense(256, activation='relu')(inputs)\n",
        "output = Dense(10, activation='softmax')(hidden)\n",
        "model = Model(inputs=inputs, outputs=output)\n",
        "\n",
        "print(model.summary())"
      ],
      "metadata": {
        "colab": {
          "base_uri": "https://localhost:8080/"
        },
        "id": "jx1CMKmuat-H",
        "outputId": "12ae2ab7-3330-4a4d-b405-5560b7b21d40"
      },
      "execution_count": 13,
      "outputs": [
        {
          "output_type": "stream",
          "name": "stdout",
          "text": [
            "Model: \"model\"\n",
            "_________________________________________________________________\n",
            " Layer (type)                Output Shape              Param #   \n",
            "=================================================================\n",
            " input_2 (InputLayer)        [(None, 8192)]            0         \n",
            "                                                                 \n",
            " dense (Dense)               (None, 256)               2097408   \n",
            "                                                                 \n",
            " dense_1 (Dense)             (None, 10)                2570      \n",
            "                                                                 \n",
            "=================================================================\n",
            "Total params: 2,099,978\n",
            "Trainable params: 2,099,978\n",
            "Non-trainable params: 0\n",
            "_________________________________________________________________\n",
            "None\n"
          ]
        }
      ]
    },
    {
      "cell_type": "code",
      "source": [
        "model.compile(loss='categorical_crossentropy', optimizer='rmsprop', metrics=['accuracy'])"
      ],
      "metadata": {
        "id": "kDGC61p6ZO2m"
      },
      "execution_count": 14,
      "outputs": []
    },
    {
      "cell_type": "code",
      "source": [
        "import datetime\n",
        "start = datetime.datetime.now()\n",
        " \n",
        "history_wo = model.fit(test_features, y_test_binary, epochs=20, verbose=1)\n",
        "\n",
        "end = datetime.datetime.now()\n",
        "print(\"Total execution time without PCA is: \", end-start)"
      ],
      "metadata": {
        "colab": {
          "base_uri": "https://localhost:8080/"
        },
        "id": "goRmSkoUZlTH",
        "outputId": "28b18f5b-ee50-47cb-c248-300135eb9454"
      },
      "execution_count": 15,
      "outputs": [
        {
          "output_type": "stream",
          "name": "stdout",
          "text": [
            "Epoch 1/20\n",
            "4/4 [==============================] - 1s 23ms/step - loss: 7.5285 - accuracy: 0.0917\n",
            "Epoch 2/20\n",
            "4/4 [==============================] - 0s 26ms/step - loss: 3.2233 - accuracy: 0.3583\n",
            "Epoch 3/20\n",
            "4/4 [==============================] - 0s 25ms/step - loss: 0.9306 - accuracy: 0.6833\n",
            "Epoch 4/20\n",
            "4/4 [==============================] - 0s 24ms/step - loss: 0.3297 - accuracy: 0.9083\n",
            "Epoch 5/20\n",
            "4/4 [==============================] - 0s 25ms/step - loss: 0.1067 - accuracy: 1.0000\n",
            "Epoch 6/20\n",
            "4/4 [==============================] - 0s 24ms/step - loss: 0.0644 - accuracy: 1.0000\n",
            "Epoch 7/20\n",
            "4/4 [==============================] - 0s 27ms/step - loss: 0.0527 - accuracy: 1.0000\n",
            "Epoch 8/20\n",
            "4/4 [==============================] - 0s 24ms/step - loss: 0.0298 - accuracy: 1.0000\n",
            "Epoch 9/20\n",
            "4/4 [==============================] - 0s 24ms/step - loss: 0.0233 - accuracy: 1.0000\n",
            "Epoch 10/20\n",
            "4/4 [==============================] - 0s 26ms/step - loss: 0.0178 - accuracy: 1.0000\n",
            "Epoch 11/20\n",
            "4/4 [==============================] - 0s 27ms/step - loss: 0.0132 - accuracy: 1.0000\n",
            "Epoch 12/20\n",
            "4/4 [==============================] - 0s 24ms/step - loss: 0.0106 - accuracy: 1.0000\n",
            "Epoch 13/20\n",
            "4/4 [==============================] - 0s 23ms/step - loss: 0.0087 - accuracy: 1.0000\n",
            "Epoch 14/20\n",
            "4/4 [==============================] - 0s 26ms/step - loss: 0.0070 - accuracy: 1.0000\n",
            "Epoch 15/20\n",
            "4/4 [==============================] - 0s 24ms/step - loss: 0.0054 - accuracy: 1.0000\n",
            "Epoch 16/20\n",
            "4/4 [==============================] - 0s 26ms/step - loss: 0.0044 - accuracy: 1.0000\n",
            "Epoch 17/20\n",
            "4/4 [==============================] - 0s 26ms/step - loss: 0.0036 - accuracy: 1.0000\n",
            "Epoch 18/20\n",
            "4/4 [==============================] - 0s 24ms/step - loss: 0.0028 - accuracy: 1.0000\n",
            "Epoch 19/20\n",
            "4/4 [==============================] - 0s 27ms/step - loss: 0.0022 - accuracy: 1.0000\n",
            "Epoch 20/20\n",
            "4/4 [==============================] - 0s 25ms/step - loss: 0.0018 - accuracy: 1.0000\n",
            "Total execution time without PCA is:  0:00:02.844796\n"
          ]
        }
      ]
    },
    {
      "cell_type": "code",
      "source": [
        "print(history_wo.history.keys())\n",
        "plt.plot(history_wo.history['accuracy'])\n",
        "plt.title('model accuracy')\n",
        "plt.ylabel('accuracy')\n",
        "plt.xlabel('epoch')\n",
        "plt.legend(['test'], loc='upper left')\n",
        "plt.show()"
      ],
      "metadata": {
        "colab": {
          "base_uri": "https://localhost:8080/",
          "height": 312
        },
        "id": "FywCDAO4No6_",
        "outputId": "fd82b43e-7274-4797-c0e2-87811e8893bc"
      },
      "execution_count": 16,
      "outputs": [
        {
          "output_type": "stream",
          "name": "stdout",
          "text": [
            "dict_keys(['loss', 'accuracy'])\n"
          ]
        },
        {
          "output_type": "display_data",
          "data": {
            "text/plain": [
              "<Figure size 432x288 with 1 Axes>"
            ],
            "image/png": "[encoded data removed]"
          },
          "metadata": {
            "needs_background": "light"
          }
        }
      ]
    },
    {
      "cell_type": "code",
      "source": [
        "from sklearn.decomposition import PCA\n",
        "\n",
        "pca_test = PCA(n_components=300) \n",
        "pca_test.fit(train_features)\n",
        "plt.plot(np.cumsum(pca_test.explained_variance_ratio_))\n",
        "plt.xlabel(\"Number of components\")\n",
        "plt.ylabel(\"Cum variance\")\n",
        "\n",
        "#we want to use 300 principle components\n",
        "#we can keep as much information as possible\n",
        "n_PCA_components = 300\n",
        "pca = PCA(n_components=n_PCA_components)\n",
        "train_PCA = pca.fit_transform(train_features)\n",
        "#apply the dimensionality deduction on trained features\n",
        "test_PCA = pca.transform(test_features) "
      ],
      "metadata": {
        "colab": {
          "base_uri": "https://localhost:8080/",
          "height": 279
        },
        "id": "kIE73d9XgELA",
        "outputId": "db3f7d77-e8df-4f51-b64c-814d1bce7bc1"
      },
      "execution_count": 17,
      "outputs": [
        {
          "output_type": "display_data",
          "data": {
            "text/plain": [
              "<Figure size 432x288 with 1 Axes>"
            ],
            "image/png": "[encoded data removed]"
          },
          "metadata": {
            "needs_background": "light"
          }
        }
      ]
    },
    {
      "cell_type": "code",
      "source": [
        "model = Sequential()\n",
        "inputs = Input(shape=(n_PCA_components)) #Shape = n_components\n",
        "hidden = Dense(256, activation='relu')(inputs)\n",
        "output = Dense(10, activation='softmax')(hidden)\n",
        "model = Model(inputs=inputs, outputs=output)\n",
        "\n",
        "print(model.summary())"
      ],
      "metadata": {
        "colab": {
          "base_uri": "https://localhost:8080/"
        },
        "id": "qg_8SaBtgOIe",
        "outputId": "3e4a931e-be71-4d39-f9e9-8d5e0c4687be"
      },
      "execution_count": 18,
      "outputs": [
        {
          "output_type": "stream",
          "name": "stdout",
          "text": [
            "Model: \"model_1\"\n",
            "_________________________________________________________________\n",
            " Layer (type)                Output Shape              Param #   \n",
            "=================================================================\n",
            " input_3 (InputLayer)        [(None, 300)]             0         \n",
            "                                                                 \n",
            " dense_2 (Dense)             (None, 256)               77056     \n",
            "                                                                 \n",
            " dense_3 (Dense)             (None, 10)                2570      \n",
            "                                                                 \n",
            "=================================================================\n",
            "Total params: 79,626\n",
            "Trainable params: 79,626\n",
            "Non-trainable params: 0\n",
            "_________________________________________________________________\n",
            "None\n"
          ]
        }
      ]
    },
    {
      "cell_type": "code",
      "source": [
        "model.compile(loss='categorical_crossentropy', optimizer='rmsprop', metrics=['categorical_accuracy'])"
      ],
      "metadata": {
        "id": "0uq4E-rUgSqv"
      },
      "execution_count": 19,
      "outputs": []
    },
    {
      "cell_type": "code",
      "source": [
        "import datetime\n",
        "start = datetime.datetime.now()\n",
        "\n",
        "history = model.fit(test_PCA, y_test_binary, epochs=20, verbose=1, shuffle=True)\n",
        "\n",
        "end = datetime.datetime.now()\n",
        "print(\"Total execution time with PCA is: \", end-start)"
      ],
      "metadata": {
        "colab": {
          "base_uri": "https://localhost:8080/"
        },
        "id": "Dw0BL6zIgXWr",
        "outputId": "f8d24157-7fb1-4624-b01c-14cc6a2d9c27"
      },
      "execution_count": 20,
      "outputs": [
        {
          "output_type": "stream",
          "name": "stdout",
          "text": [
            "Epoch 1/20\n",
            "4/4 [==============================] - 0s 5ms/step - loss: 2.7340 - categorical_accuracy: 0.2000\n",
            "Epoch 2/20\n",
            "4/4 [==============================] - 0s 5ms/step - loss: 1.0012 - categorical_accuracy: 0.7333\n",
            "Epoch 3/20\n",
            "4/4 [==============================] - 0s 5ms/step - loss: 0.5158 - categorical_accuracy: 0.9500\n",
            "Epoch 4/20\n",
            "4/4 [==============================] - 0s 7ms/step - loss: 0.3096 - categorical_accuracy: 1.0000\n",
            "Epoch 5/20\n",
            "4/4 [==============================] - 0s 5ms/step - loss: 0.2003 - categorical_accuracy: 1.0000\n",
            "Epoch 6/20\n",
            "4/4 [==============================] - 0s 4ms/step - loss: 0.1389 - categorical_accuracy: 1.0000\n",
            "Epoch 7/20\n",
            "4/4 [==============================] - 0s 4ms/step - loss: 0.0997 - categorical_accuracy: 1.0000\n",
            "Epoch 8/20\n",
            "4/4 [==============================] - 0s 5ms/step - loss: 0.0734 - categorical_accuracy: 1.0000\n",
            "Epoch 9/20\n",
            "4/4 [==============================] - 0s 4ms/step - loss: 0.0555 - categorical_accuracy: 1.0000\n",
            "Epoch 10/20\n",
            "4/4 [==============================] - 0s 5ms/step - loss: 0.0425 - categorical_accuracy: 1.0000\n",
            "Epoch 11/20\n",
            "4/4 [==============================] - 0s 4ms/step - loss: 0.0333 - categorical_accuracy: 1.0000\n",
            "Epoch 12/20\n",
            "4/4 [==============================] - 0s 5ms/step - loss: 0.0262 - categorical_accuracy: 1.0000\n",
            "Epoch 13/20\n",
            "4/4 [==============================] - 0s 5ms/step - loss: 0.0205 - categorical_accuracy: 1.0000\n",
            "Epoch 14/20\n",
            "4/4 [==============================] - 0s 4ms/step - loss: 0.0163 - categorical_accuracy: 1.0000\n",
            "Epoch 15/20\n",
            "4/4 [==============================] - 0s 7ms/step - loss: 0.0130 - categorical_accuracy: 1.0000\n",
            "Epoch 16/20\n",
            "4/4 [==============================] - 0s 4ms/step - loss: 0.0103 - categorical_accuracy: 1.0000\n",
            "Epoch 17/20\n",
            "4/4 [==============================] - 0s 4ms/step - loss: 0.0083 - categorical_accuracy: 1.0000\n",
            "Epoch 18/20\n",
            "4/4 [==============================] - 0s 4ms/step - loss: 0.0066 - categorical_accuracy: 1.0000\n",
            "Epoch 19/20\n",
            "4/4 [==============================] - 0s 4ms/step - loss: 0.0053 - categorical_accuracy: 1.0000\n",
            "Epoch 20/20\n",
            "4/4 [==============================] - 0s 4ms/step - loss: 0.0043 - categorical_accuracy: 1.0000\n",
            "Total execution time with PCA is:  0:00:01.047501\n"
          ]
        }
      ]
    },
    {
      "cell_type": "code",
      "source": [
        "print(history.history.keys())\n",
        "plt.plot(history.history['categorical_accuracy'])\n",
        "plt.title('model accuracy')\n",
        "plt.ylabel('accuracy')\n",
        "plt.xlabel('epoch')\n",
        "plt.legend(['test'], loc='upper left')\n",
        "plt.show()"
      ],
      "metadata": {
        "colab": {
          "base_uri": "https://localhost:8080/",
          "height": 312
        },
        "id": "2SCeGZp0gjll",
        "outputId": "81639ba0-a823-43d1-d09a-c698d6d3fdfc"
      },
      "execution_count": 21,
      "outputs": [
        {
          "output_type": "stream",
          "name": "stdout",
          "text": [
            "dict_keys(['loss', 'categorical_accuracy'])\n"
          ]
        },
        {
          "output_type": "display_data",
          "data": {
            "text/plain": [
              "<Figure size 432x288 with 1 Axes>"
            ],
            "image/png": "[encoded data removed]"
          },
          "metadata": {
            "needs_background": "light"
          }
        }
      ]
    }
  ]
}