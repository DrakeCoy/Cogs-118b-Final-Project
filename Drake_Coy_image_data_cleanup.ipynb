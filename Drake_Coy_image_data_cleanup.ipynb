{
 "cells": [
  {
   "cell_type": "code",
   "execution_count": 1,
   "metadata": {},
   "outputs": [],
   "source": [
    "import numpy as np\n",
    "import matplotlib.pyplot as plt\n",
    "from PIL import Image\n",
    "import glob\n",
    "import os"
   ]
  },
  {
   "cell_type": "code",
   "execution_count": 2,
   "metadata": {},
   "outputs": [],
   "source": [
    "def open_images():\n",
    "    with open('C:/Users/Drake Coy/Desktop/Cogs 118b/Final Project/Animal Image Dataset (90 Different Animals)/name of the animals.txt', \"r\") as f:\n",
    "        content = f.readlines()\n",
    "\n",
    "    animal_names = []\n",
    "    for item in content:\n",
    "        item = item.replace('\\n', '')\n",
    "        animal_names.append(item)\n",
    "        \n",
    "    return animal_names"
   ]
  },
  {
   "cell_type": "code",
   "execution_count": 9,
   "metadata": {},
   "outputs": [],
   "source": [
    "original_path = 'C:/Users/Drake Coy/Desktop/Cogs 118b/Final Project/Animal Image Dataset (90 Different Animals)/animals'\n",
    "\n",
    "def rename_animal_images(original_path):\n",
    "    for animal in animal_names:\n",
    "\n",
    "        animal_name = animal\n",
    "        num = 0\n",
    "\n",
    "        parent_dir = 'C:/Users/Drake Coy/Desktop/Cogs 118b/Final Project/Animal Image Dataset (90 Different Animals)/animals_rename'\n",
    "        directory = animal_name\n",
    "        path = os.path.join(parent_dir, directory)\n",
    "        os.mkdir(path)\n",
    "\n",
    "        for filename in glob.iglob(orginal_path + '/' + animal_name + '/*.jpg'):\n",
    "            im = Image.open(filename)\n",
    "            im.save(parent_dir + '/' + animal_name + '/' + animal_name + '_' + str(num) + '.jpg')\n",
    "            num += 1"
   ]
  },
  {
   "cell_type": "code",
   "execution_count": 10,
   "metadata": {},
   "outputs": [],
   "source": [
    "def convert_img_to_thumbnail(original_path):\n",
    "    for animal in animal_names:\n",
    "\n",
    "        animal_name = animal\n",
    "        num = 0\n",
    "\n",
    "        parent_dir = 'C:/Users/Drake Coy/Desktop/Cogs 118b/Final Project/Animal Image Dataset (90 Different Animals)/animals_thumbnail'\n",
    "        directory = animal_name\n",
    "        path = os.path.join(parent_dir, directory)\n",
    "        os.mkdir(path)\n",
    "\n",
    "        for filename in glob.iglob(orginal_path + '/' + animal_name + '/*.jpg'):\n",
    "            im = Image.open(filename)\n",
    "            im.thumbnail((144,144))\n",
    "            im.save(parent_dir + '/' + animal_name + '/' + animal_name + '_' + str(num) + '.jpg')\n",
    "            num += 1"
   ]
  },
  {
   "cell_type": "code",
   "execution_count": 11,
   "metadata": {},
   "outputs": [],
   "source": [
    "def resize_all_images(original_path):\n",
    "    \n",
    "    resize_ratio = 0.5\n",
    "    \n",
    "    for animal in animal_names:\n",
    "\n",
    "        animal_name = animal\n",
    "        num = 0\n",
    "\n",
    "        parent_dir = 'C:/Users/Drake Coy/Desktop/Cogs 118b/Final Project/Animal Image Dataset (90 Different Animals)/animals_resize'\n",
    "        directory = animal_name\n",
    "        path = os.path.join(parent_dir, directory)\n",
    "        os.mkdir(path)\n",
    "\n",
    "        for filename in glob.iglob(orginal_path + '/' + animal_name + '/*.jpg'):\n",
    "            image = Image.open(filename)            \n",
    "            image = image.resize((144, 144), Image.ANTIALIAS)\n",
    "            image.save(parent_dir + '/' + animal_name + '/' + animal_name + '_' + str(num) + '.jpg')\n",
    "            num += 1"
   ]
  },
  {
   "cell_type": "code",
   "execution_count": 12,
   "metadata": {},
   "outputs": [],
   "source": [
    "animal_names = open_images()"
   ]
  },
  {
   "cell_type": "code",
   "execution_count": 13,
   "metadata": {},
   "outputs": [],
   "source": [
    "original_path = 'C:/Users/Drake Coy/Desktop/Cogs 118b/Final Project/Animal Image Dataset (90 Different Animals)/animals'\n",
    "rename_animal_images(original_path)"
   ]
  },
  {
   "cell_type": "code",
   "execution_count": 14,
   "metadata": {},
   "outputs": [],
   "source": [
    "resize_all_images(orginal_path)"
   ]
  },
  {
   "cell_type": "markdown",
   "metadata": {},
   "source": [
    "### Animals:  \n",
    "- bear\n",
    "- crab\n",
    "- flamingo\n",
    "- jellyfish\n",
    "- penguin\n",
    "- whale\n",
    "- wolf\n",
    "- horse\n",
    "- caterpillar\n",
    "- dog"
   ]
  },
  {
   "cell_type": "code",
   "execution_count": null,
   "metadata": {},
   "outputs": [],
   "source": []
  }
 ],
 "metadata": {
  "kernelspec": {
   "display_name": "Python 3 (ipykernel)",
   "language": "python",
   "name": "python3"
  },
  "language_info": {
   "codemirror_mode": {
    "name": "ipython",
    "version": 3
   },
   "file_extension": ".py",
   "mimetype": "text/x-python",
   "name": "python",
   "nbconvert_exporter": "python",
   "pygments_lexer": "ipython3",
   "version": "3.9.7"
  }
 },
 "nbformat": 4,
 "nbformat_minor": 4
}
